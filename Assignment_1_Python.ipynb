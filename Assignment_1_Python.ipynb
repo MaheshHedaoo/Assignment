{
 "cells": [
  {
   "cell_type": "code",
   "execution_count": 2,
   "metadata": {},
   "outputs": [
    {
     "name": "stdout",
     "output_type": "stream",
     "text": [
      "Jupyter notebook Sucsessfully \n"
     ]
    }
   ],
   "source": [
    "#Question 1: Install Jupyter notebook and run the first program and share the screenshot of the output.\n",
    "# Simple print command\n",
    "print('Jupyter notebook Sucsessfully ')"
   ]
  },
  {
   "cell_type": "code",
   "execution_count": 3,
   "metadata": {},
   "outputs": [
    {
     "name": "stdout",
     "output_type": "stream",
     "text": [
      "[2030, 2065, 2100, 2135, 2170, 2205, 2240, 2275, 2310, 2345, 2380, 2415, 2450, 2485, 2520, 2555, 2590, 2625, 2660, 2695, 2730, 2765, 2800, 2835, 2870, 2905, 2940, 2975, 3010, 3045, 3080, 3115, 3150, 3185]\n"
     ]
    }
   ],
   "source": [
    "# Question 2: Write a program which will find all such numbers which are divisible by 7 but are not a multiple\n",
    "#of 5, between 2000 and 3200 (both included). The numbers obtained should be printed in a\n",
    "#comma-separated sequence on a single line.\n",
    "\n",
    "list2=list(range(2000,3200))\n",
    "div_7=list(filter(lambda x: (x % 7 == 0), list2)) \n",
    "div_5=list(filter(lambda x: (x % 5 == 0), div_7)) \n",
    "    \n",
    "print(div_5)\n"
   ]
  },
  {
   "cell_type": "code",
   "execution_count": 4,
   "metadata": {},
   "outputs": [
    {
     "name": "stdout",
     "output_type": "stream",
     "text": [
      "Please enter your first Name :Mahesh\n",
      "Please enter your Last Name :Hedaoo\n",
      "Hedaoo Mahesh\n"
     ]
    }
   ],
   "source": [
    "#Question 3 : Write a Python program to accept the user's first and last name and then getting them printed in\n",
    "#the the reverse order with a space between first name and last name.\n",
    "\n",
    "def my_fun():\n",
    "    first_name=input(\"Please enter your first Name :\" )\n",
    "    Last_name=input(\"Please enter your Last Name :\" )\n",
    "    print(Last_name, first_name )\n",
    "my_fun() "
   ]
  },
  {
   "cell_type": "code",
   "execution_count": 5,
   "metadata": {},
   "outputs": [
    {
     "name": "stdout",
     "output_type": "stream",
     "text": [
      "25.119999999999997\n"
     ]
    }
   ],
   "source": [
    "# Question 4:Write a Python program to find the volume of a sphere with diameter 12 cm.\n",
    "#Formula: V=4/3 * π * r3\n",
    "\n",
    "def vol_sp():    \n",
    "    Diamter=12 # 12 cm\n",
    "    a=4/3\n",
    "    pai=3.14\n",
    "\n",
    "    VOlumn=a*pai*(12/2)\n",
    "    print(VOlumn)\n",
    "    \n",
    "vol_sp() \n"
   ]
  },
  {
   "cell_type": "code",
   "execution_count": 6,
   "metadata": {},
   "outputs": [
    {
     "name": "stdout",
     "output_type": "stream",
     "text": [
      "please common seperated number :10,11,13,15\n",
      "['10,11,13,15']\n"
     ]
    }
   ],
   "source": [
    "# Question 5 : Write a program which accepts a sequence of comma-separated numbers from console and generate a list.\n",
    "\n",
    "var=input(\"please common seperated number :\")\n",
    "print([var])\n"
   ]
  },
  {
   "cell_type": "code",
   "execution_count": 7,
   "metadata": {},
   "outputs": [
    {
     "name": "stdout",
     "output_type": "stream",
     "text": [
      "Please enter numner :5\n",
      "* \n",
      "* * \n",
      "* * * \n",
      "* * * * \n",
      "* * * * * \n",
      "* * * * * * \n",
      "* * * * * \n",
      "* * * * \n",
      "* * * \n",
      "* * \n",
      "* \n"
     ]
    }
   ],
   "source": [
    "# Question 6 : Create the below pattern using nested for loop in Python.\n",
    "#*\n",
    "#* *\n",
    "#* * *\n",
    "#* * * *\n",
    "#* * * * *\n",
    "#* * * *\n",
    "#* * *\n",
    "#* *\n",
    "\n",
    "\n",
    "row=int(input(\"Please enter numner :\"))\n",
    "for row in range(1,row+1):\n",
    "    for column in  range(1, row+1):\n",
    "        print ('*' , end=' ')\n",
    "    print()\n",
    "    \n",
    "for row in range(row+1, 0,-1):\n",
    "    for column in  range(1, row+1):\n",
    "        print ('*' , end=' ')\n",
    "    print()"
   ]
  },
  {
   "cell_type": "code",
   "execution_count": 2,
   "metadata": {},
   "outputs": [
    {
     "name": "stdout",
     "output_type": "stream",
     "text": [
      "Please enter any string :abcd\n",
      "dcba\n"
     ]
    }
   ],
   "source": [
    "# Question 7 : Write a Python program to reverse a word after accepting the input from the user.\n",
    "#Sample Output:\n",
    "#Input word: AcadGild\n",
    "#Output: dilGdacA\n",
    "\n",
    "User_Input= input(\"Please enter any string :\")\n",
    "Reverse_Output=User_Input[::-1]\n",
    "print(Reverse_Output)\n"
   ]
  },
  {
   "cell_type": "code",
   "execution_count": 15,
   "metadata": {},
   "outputs": [
    {
     "name": "stdout",
     "output_type": "stream",
     "text": [
      "WE, THE PEOPLE OF INDIA, \n",
      "      having solemnly resolved to constitute India into a SOVEREIGN, \n",
      "             SOCIALIST, SECULAR, DEMOCRATIC REPUBLIC \n",
      "              and to secure to all its citizens\n"
     ]
    }
   ],
   "source": [
    "# Question 8 : Write a Python Program to print the given string in the format specified in the sample output.\n",
    "#WE, THE PEOPLE OF INDIA, having solemnly resolved to constitute India into a\n",
    "#SOVEREIGN, SOCIALIST, SECULAR, DEMOCRATIC REPUBLIC and to secure to all\n",
    "#its citizens\n",
    "\n",
    "print(\"WE, THE PEOPLE OF INDIA, \\n      having solemnly resolved to constitute India into a SOVEREIGN, \\n             SOCIALIST, SECULAR, DEMOCRATIC REPUBLIC \\n              and to secure to all its citizens\")\n"
   ]
  }
 ],
 "metadata": {
  "kernelspec": {
   "display_name": "Python 3",
   "language": "python",
   "name": "python3"
  },
  "language_info": {
   "codemirror_mode": {
    "name": "ipython",
    "version": 3
   },
   "file_extension": ".py",
   "mimetype": "text/x-python",
   "name": "python",
   "nbconvert_exporter": "python",
   "pygments_lexer": "ipython3",
   "version": "3.7.4"
  }
 },
 "nbformat": 4,
 "nbformat_minor": 2
}
